{
 "cells": [
  {
   "cell_type": "code",
   "execution_count": 2,
   "metadata": {},
   "outputs": [
    {
     "name": "stdout",
     "output_type": "stream",
     "text": [
      "the initial variables are {'u': 0}\n",
      "[OK] <JMIRuntime><value name=\"build_date\">\"Feb 24 2021\"</value> <value name=\"build_time\">\"21:25:41\"</value></JMIRuntime>\n",
      "[WARNING] <ModelicaMessage category=\"warning\"><value name=\"msg\">\"... loading \"\"tab1\"\" from \"\"/home/lesong/Energym_runs/1670233003_5021442/resources/0/weather.mos\"\"&##10;\"</value></ModelicaMessage>\n",
      "the initial variables are {'u': 0}\n",
      "the initial variables are {'u': 0}\n",
      "[OK] <JMIRuntime><value name=\"build_date\">\"Feb 24 2021\"</value> <value name=\"build_time\">\"21:25:41\"</value></JMIRuntime>\n",
      "[WARNING] <ModelicaMessage category=\"warning\"><value name=\"msg\">\"... loading \"\"tab1\"\" from \"\"/home/lesong/Energym_runs/1670233011_2798940/resources/0/weather.mos\"\"&##10;\"</value></ModelicaMessage>\n",
      "layer info  [256, 256, 1]\n",
      "layer info  [256, 256, 1]\n",
      "the initial variables are {'u': 0}\n",
      "[OK] <JMIRuntime><value name=\"build_date\">\"Feb 24 2021\"</value> <value name=\"build_time\">\"21:25:41\"</value></JMIRuntime>\n",
      "[WARNING] <ModelicaMessage category=\"warning\"><value name=\"msg\">\"... loading \"\"tab1\"\" from \"\"/home/lesong/Energym_runs/1670233012_1661828/resources/0/weather.mos\"\"&##10;\"</value></ModelicaMessage>\n"
     ]
    },
    {
     "ename": "TypeError",
     "evalue": "reward_func() missing 2 required positional arguments: 'max_kpi' and 'kpi'",
     "output_type": "error",
     "traceback": [
      "\u001b[0;31m---------------------------------------------------------------------------\u001b[0m",
      "\u001b[0;31mTypeError\u001b[0m                                 Traceback (most recent call last)",
      "Cell \u001b[0;32mIn [2], line 35\u001b[0m\n\u001b[1;32m     33\u001b[0m \u001b[39mfor\u001b[39;00m i \u001b[39min\u001b[39;00m \u001b[39mrange\u001b[39m(traj_len):\n\u001b[1;32m     34\u001b[0m     state, action, _, kpis, next_state \u001b[39m=\u001b[39m trajectory[\u001b[39m4\u001b[39m\u001b[39m*\u001b[39mi], trajectory[\u001b[39m4\u001b[39m\u001b[39m*\u001b[39mi\u001b[39m+\u001b[39m\u001b[39m1\u001b[39m], trajectory[\u001b[39m4\u001b[39m\u001b[39m*\u001b[39mi\u001b[39m+\u001b[39m\u001b[39m2\u001b[39m], trajectory[\u001b[39m4\u001b[39m\u001b[39m*\u001b[39mi\u001b[39m+\u001b[39m\u001b[39m3\u001b[39m], trajectory[\u001b[39m4\u001b[39m\u001b[39m*\u001b[39mi\u001b[39m+\u001b[39m\u001b[39m4\u001b[39m]\n\u001b[0;32m---> 35\u001b[0m     old_reward \u001b[39m=\u001b[39m reward_func(kpis)\n\u001b[1;32m     36\u001b[0m     \u001b[39m# print(old_reward, kpis)\u001b[39;00m\n\u001b[1;32m     37\u001b[0m     \u001b[39m# print('cur_state: ', env_rl.inverse_transform_state(state))\u001b[39;00m\n\u001b[1;32m     38\u001b[0m     \u001b[39m# print(\"next_state: \", env_rl.inverse_transform_state(next_state))\u001b[39;00m\n\u001b[1;32m     39\u001b[0m     old_traj_reward_list\u001b[39m.\u001b[39mappend(old_reward)\n",
      "\u001b[0;31mTypeError\u001b[0m: reward_func() missing 2 required positional arguments: 'max_kpi' and 'kpi'"
     ]
    }
   ],
   "source": [
    "from preference_data import *\n",
    "from reward_model import *\n",
    "import torch\n",
    "import numpy as np\n",
    "import matplotlib.pyplot as plt\n",
    "from buildings_factory import reward_func\n",
    "from train import collect_baseline_kpi\n",
    "\n",
    "\n",
    "# buildings_list = [\"ApartmentsThermal-v0\", \"ApartmentsGrid-v0\", \"Apartments2Thermal-v0\",\n",
    "#                   \"Apartments2Grid-v0\", \"OfficesThermostat-v0\", \"MixedUseFanFCU-v0\",\n",
    "#                   \"SeminarcenterThermostat-v0\", \"SeminarcenterFull-v0\", \"SimpleHouseRad-v0\",\n",
    "#                   \"SimpleHouseRSla-v0\", \"SwissHouseRSlaW2W-v0\", \"SwissHouseRSlaTank-v0\"] \n",
    "\n",
    "\n",
    "building_name = \"SwissHouseRSlaW2W-v0\"\n",
    "min_kpis, max_kpis = collect_baseline_kpi(building_name)\n",
    "building_idx = buildings_list.index(building_name)\n",
    "env = get_env(building_name)\n",
    "inputs = get_inputs(building_name, env)\n",
    "default_control = default_controls[building_idx]\n",
    "env_rl = StableBaselinesRLWrapper(building_name, min_kpis, max_kpis, reward_func)\n",
    "input_dim = env_rl.observation_space.shape[0]\n",
    "model = RewardNet(input_dim)\n",
    "model_loc = f\"models/{building_name}/\"\n",
    "model.load_state_dict(torch.load(f\"{model_loc}/reward_model/reward_model_best.pkl\"))\n",
    "new_traj_reward_list = []\n",
    "old_traj_reward_list = []\n",
    "model.eval()\n",
    "controller = controller_list[building_idx]\n",
    "trajectory = sample_trajectory(env_rl, building_name, controller=controller)\n",
    "traj_len = min(300, len(trajectory) // 4)\n",
    "for i in range(traj_len):\n",
    "    state, action, _, kpis, next_state = trajectory[4*i], trajectory[4*i+1], trajectory[4*i+2], trajectory[4*i+3], trajectory[4*i+4]\n",
    "    old_reward = reward_func(min_kpis, max_kpis, kpis)\n",
    "    # print(old_reward, kpis)\n",
    "    # print('cur_state: ', env_rl.inverse_transform_state(state))\n",
    "    # print(\"next_state: \", env_rl.inverse_transform_state(next_state))\n",
    "    old_traj_reward_list.append(old_reward)\n",
    "    with torch.no_grad():\n",
    "        # tran = np.concatenate((state, action, next_state))\n",
    "        model_in = torch.from_numpy(np.array(state)).reshape(1, -1).to(torch.float)\n",
    "        new_reward = model.get_reward(model_in)[0].item()\n",
    "    new_traj_reward_list.append(new_reward)\n",
    "\n",
    "plt.figure(figsize=(15,8))\n",
    "x = list(range(len(old_traj_reward_list)))\n",
    "plt.plot(x, old_traj_reward_list, 'r--', x, new_traj_reward_list, 'b--')\n",
    "plt.show()\n",
    "print(np.corrcoef(old_traj_reward_list, new_traj_reward_list))"
   ]
  }
 ],
 "metadata": {
  "kernelspec": {
   "display_name": "Python 3.9.15 ('env39')",
   "language": "python",
   "name": "python3"
  },
  "language_info": {
   "codemirror_mode": {
    "name": "ipython",
    "version": 3
   },
   "file_extension": ".py",
   "mimetype": "text/x-python",
   "name": "python",
   "nbconvert_exporter": "python",
   "pygments_lexer": "ipython3",
   "version": "3.9.15"
  },
  "orig_nbformat": 4,
  "vscode": {
   "interpreter": {
    "hash": "1ba3f1003eb51df4385681af09de5f879cf0d20233769b7148e47ffbd897ac4a"
   }
  }
 },
 "nbformat": 4,
 "nbformat_minor": 2
}
