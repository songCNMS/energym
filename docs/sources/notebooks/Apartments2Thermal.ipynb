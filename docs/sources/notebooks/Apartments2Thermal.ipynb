{
 "cells": [
  {
   "cell_type": "markdown",
   "metadata": {},
   "source": [
    "# Apartments2Thermal notebook example"
   ]
  },
  {
   "cell_type": "markdown",
   "metadata": {},
   "source": [
    "In this example, a rule based controller is used to control the model \"Apartments2Thermal-v0\". At first we import the controller:"
   ]
  },
  {
   "cell_type": "code",
   "execution_count": 2,
   "metadata": {},
   "outputs": [],
   "source": [
    "import sys\n",
    "sys.path.insert(0, \"/home/lesong/energym/\")\n",
    "from energym.examples.Controller import LabController"
   ]
  },
  {
   "cell_type": "markdown",
   "metadata": {},
   "source": [
    "Next, we import Energym and create the simulation environment by specifying the model, a weather file and the number of simulation days."
   ]
  },
  {
   "cell_type": "code",
   "execution_count": 3,
   "metadata": {
    "scrolled": true
   },
   "outputs": [
    {
     "name": "stderr",
     "output_type": "stream",
     "text": [
      "/home/lesong/energym/energym/schedules/EVSchedule.py:60: FutureWarning: Series.dt.weekofyear and Series.dt.week have been deprecated. Please use Series.dt.isocalendar().week instead.\n",
      "  self.schedule[\"Week\"] = self.schedule[\"Time\"].dt.week\n",
      "/home/lesong/energym/energym/schedules/EVSchedule.py:161: FutureWarning: In a future version, `df.iloc[:, i] = newvals` will attempt to set the values inplace instead of always setting a new array. To retain the old behavior, use either `df[df.columns[i]] = newvals` or, if columns are non-unique, `df.isetitem(i, newvals)`\n",
      "  self.schedule.update(df_day)\n",
      "/home/lesong/energym/energym/schedules/EVSchedule.py:162: FutureWarning: In a future version, `df.iloc[:, i] = newvals` will attempt to set the values inplace instead of always setting a new array. To retain the old behavior, use either `df[df.columns[i]] = newvals` or, if columns are non-unique, `df.isetitem(i, newvals)`\n",
      "  self.prediction.update(df_day_pred)\n",
      "/home/lesong/energym/energym/schedules/EVSchedule.py:60: FutureWarning: Series.dt.weekofyear and Series.dt.week have been deprecated. Please use Series.dt.isocalendar().week instead.\n",
      "  self.schedule[\"Week\"] = self.schedule[\"Time\"].dt.week\n",
      "/home/lesong/energym/energym/schedules/EVSchedule.py:161: FutureWarning: In a future version, `df.iloc[:, i] = newvals` will attempt to set the values inplace instead of always setting a new array. To retain the old behavior, use either `df[df.columns[i]] = newvals` or, if columns are non-unique, `df.isetitem(i, newvals)`\n",
      "  self.schedule.update(df_day)\n",
      "/home/lesong/energym/energym/schedules/EVSchedule.py:162: FutureWarning: In a future version, `df.iloc[:, i] = newvals` will attempt to set the values inplace instead of always setting a new array. To retain the old behavior, use either `df[df.columns[i]] = newvals` or, if columns are non-unique, `df.isetitem(i, newvals)`\n",
      "  self.prediction.update(df_day_pred)\n"
     ]
    },
    {
     "name": "stdout",
     "output_type": "stream",
     "text": [
      "[OK] fmi2Instantiate: The Resource location of FMU with instance name instance1669805558 is file:///home/lesong/Energym_runs/1669805558_3940059/resources.\n",
      "\n",
      "[WARNING] fmi2Instantiate: Argument loggingOn is set to 1\n",
      ". This is not supported. loggingOn will default to '0'.\n",
      "\n",
      "[OK] The current working directory is /home/lesong/energym/docs/sources/notebooks\n",
      "\n",
      "[OK] fmi2Instantiate: Path to fmuUnzipLocation ///home/lesong/Energym_runs/1669805558_3940059//\n",
      "\n",
      "[OK] fmi2Instantiate: Path to fmuResourceLocation ///home/lesong/Energym_runs/1669805558_3940059//resources//\n",
      "\n",
      "[OK] Command executes to copy content of resources folder: cp -f \"///home/lesong/Energym_runs/1669805558_3940059//resources//\"variables.cfg \"/home/lesong/energym/docs/sources/notebooks//Output_EPExport_instance1669805558//\"\n",
      "\n",
      "[OK] fmi2Instantiate: Path to model description file is ///home/lesong/Energym_runs/1669805558_3940059//modelDescription.xml.\n",
      "\n",
      "[OK] fmi2Instantiate: The FMU modelIdentifier is Apartments2_heavy_insulated_pump.\n",
      "\n",
      "[OK] fmi2Instantiate: The FMU modelGUID is 0358295edb2a62e8057f32ea32dbec3f.\n",
      "\n",
      "[OK] fmi2Instantiate: Slave instance1669805558 is instantiated.\n",
      "\n",
      "[OK] fmi2Instantiate: Instantiation of instance1669805558 succeded.\n",
      "\n",
      "[OK] fmi2EnterInitializationMode: The sockfd is 66.\n",
      "\n",
      "[OK] fmi2EnterInitializationMode: The port number is 52327.\n",
      "\n",
      "[OK] fmi2EnterInitializationMode: This hostname is GCRAZGDL2235.\n",
      "\n",
      "[OK] fmi2EnterInitializationMode: TCPServer Server waiting for clients on port: 52327.\n",
      "\n",
      "[OK] fmi2EnterInitializationMode: The number of input variables is 13.\n",
      "\n",
      "[OK] fmi2EnterInitializationMode: The number of output variables is 68.\n",
      "\n",
      "[OK] Get input file from resource folder ///home/lesong/Energym_runs/1669805558_3940059//resources//.\n",
      "\n",
      "[OK] Searching for following pattern .idf\n",
      "\n",
      "[OK] Read directory and search for *.idf, *.epw, or *.idd file.\n",
      "\n",
      "[OK] Read directory and search for *.idf, *.epw, or *.idd file.\n",
      "\n",
      "[OK] Read directory and search for *.idf, *.epw, or *.idd file.\n",
      "\n",
      "[OK] Read directory and search for *.idf, *.epw, or *.idd file.\n",
      "\n",
      "[OK] Read directory and search for *.idf, *.epw, or *.idd file.\n",
      "\n",
      "[OK] Found matching file Apartments2_heavy_insulated_pump.idf.\n",
      "\n",
      "[OK] done searching pattern .idf\n",
      "\n",
      "[OK] Get input file from resource folder ///home/lesong/Energym_runs/1669805558_3940059//resources//.\n",
      "\n",
      "[OK] Searching for following pattern .epw\n",
      "\n",
      "[OK] Read directory and search for *.idf, *.epw, or *.idd file.\n",
      "\n",
      "[OK] Read directory and search for *.idf, *.epw, or *.idd file.\n",
      "\n",
      "[OK] Found matching file weather.epw.\n",
      "\n",
      "[OK] done searching pattern .epw\n",
      "\n",
      "[OK] Get input file from resource folder ///home/lesong/Energym_runs/1669805558_3940059//resources//.\n",
      "\n",
      "[OK] Searching for following pattern .idd\n",
      "\n",
      "[OK] Read directory and search for *.idf, *.epw, or *.idd file.\n",
      "\n",
      "[OK] Read directory and search for *.idf, *.epw, or *.idd file.\n",
      "\n",
      "[OK] Read directory and search for *.idf, *.epw, or *.idd file.\n",
      "\n",
      "[OK] Read directory and search for *.idf, *.epw, or *.idd file.\n",
      "\n",
      "[OK] Found matching file Energy+.idd.\n",
      "\n",
      "[OK] done searching pattern .idd\n",
      "\n",
      "Reading input and weather file for preprocessor program.\n",
      "The IDF version of the input file ///home/lesong/Energym_runs/1669805558_3940059//resources//Apartments2_heavy_insulated_pump.idf starts with 9\n"
     ]
    },
    {
     "name": "stderr",
     "output_type": "stream",
     "text": [
      "/home/lesong/energym/energym/schedules/EVSchedule.py:177: FutureWarning: Passing method to DatetimeIndex.get_loc is deprecated and will raise in a future version. Use index.get_indexer([item], method=...) instead.\n",
      "  indices = [self.schedule.index.get_loc(dt, method=\"nearest\") for dt in dts]\n"
     ]
    },
    {
     "name": "stdout",
     "output_type": "stream",
     "text": [
      "Successfully finish reading weather file.\n",
      "This is the Begin Month: 1\n",
      "Time (0) set is smaller than minimun allowed (1 day). Day will be set to 1.\n",
      "This is the Day of the Begin Month: 1\n",
      "This is the End Month: 1\n",
      "This is the Day of the End Month: 30\n",
      "Day of week was left blank in input file.\n",
      "This is the New Day of Week:  \n",
      "[OK] This version uses the **energyplus** command line interface to  call the EnergyPlus executable. **RunEPlus.bat** and **runenergyplus** , which were used in earlier versions, were deprecated as of August 2015.\n",
      "Running EPMacro...\n",
      "ExpandObjects Started.\n",
      "No expanded file generated.\n",
      "ExpandObjects Finished. Time:     0.170\n",
      "EnergyPlus Starting\n",
      "EnergyPlus, Version 9.5.0-de239b2e5f, YMD=2022.11.30 10:52\n"
     ]
    },
    {
     "name": "stderr",
     "output_type": "stream",
     "text": [
      "Could not find platform independent libraries <prefix>\n",
      "Could not find platform dependent libraries <exec_prefix>\n",
      "Consider setting $PYTHONHOME to <prefix>[:<exec_prefix>]\n"
     ]
    },
    {
     "name": "stdout",
     "output_type": "stream",
     "text": [
      "Adjusting Air System Sizing\n",
      "Adjusting Standard 62.1 Ventilation Sizing\n",
      "Initializing Simulation\n",
      "Reporting Surfaces\n",
      "Beginning Primary Simulation\n",
      "Initializing New Environment Parameters\n",
      "Warming up {1}\n",
      "Instantiating FunctionalMockupUnitExport interface\n",
      "ExternalInterface initializes.\n",
      "[OK] fmi2EnterInitializationMode: The connection has been accepted.\n",
      "\n",
      "[OK] fmi2EnterInitializationMode: Slave instance1669805558 is initialized.\n",
      "\n",
      "Number of outputs in ExternalInterface = 68\n",
      "Number of inputs  in ExternalInterface = 13\n",
      "Calculating Detailed Daylighting Factors, Start Date=01/01\n",
      "Warming up {2}\n",
      "Warming up {3}\n",
      "Warming up {4}\n",
      "Warming up {5}\n",
      "Warming up {6}\n",
      "Starting Simulation at 01/01/2017 for ALL_YEAR\n",
      "ExternalInterface starts first data exchange.\n"
     ]
    }
   ],
   "source": [
    "import energym\n",
    "\n",
    "weather = \"ESP_CT_Barcelona\"\n",
    "env = energym.make(\"Apartments2Thermal-v0\", weather=weather, simulation_days=30)"
   ]
  },
  {
   "cell_type": "markdown",
   "metadata": {},
   "source": [
    "The control inputs can be inspected using the `get_inputs_names()` method and to construct a controller, we pass the list of inputs and further parameters. This controller determines inputs to get close to the temperature setpoints and uses fixed setpoints during the night."
   ]
  },
  {
   "cell_type": "code",
   "execution_count": 4,
   "metadata": {},
   "outputs": [
    {
     "name": "stdout",
     "output_type": "stream",
     "text": [
      "['Bd_Ch_EV1Bat_sp', 'Bd_Ch_EV2Bat_sp', 'Bd_Pw_Bat_sp', 'P1_T_Thermostat_sp', 'P1_onoff_HP_sp', 'P2_T_Thermostat_sp', 'P2_onoff_HP_sp', 'P3_T_Thermostat_sp', 'P3_onoff_HP_sp', 'P4_T_Thermostat_sp', 'P4_onoff_HP_sp']\n"
     ]
    }
   ],
   "source": [
    "inputs = env.get_inputs_names()\n",
    "print(inputs)\n",
    "controller = LabController(control_list=inputs, lower_tol=0.3, upper_tol=0.8, nighttime_setback=True, nighttime_start=18, nighttime_end=6, nighttime_temp=18)"
   ]
  },
  {
   "cell_type": "code",
   "execution_count": 7,
   "metadata": {},
   "outputs": [
    {
     "data": {
      "text/plain": [
       "{'Ext_T': {'type': 'scalar',\n",
       "  'lower_bound': -10,\n",
       "  'upper_bound': 40,\n",
       "  'description': 'Outdoor temperature (°C).'},\n",
       " 'Ext_RH': {'type': 'scalar',\n",
       "  'lower_bound': 0,\n",
       "  'upper_bound': 100,\n",
       "  'description': 'Outdoor relative humidity (%RH).'},\n",
       " 'Ext_Irr': {'type': 'scalar',\n",
       "  'lower_bound': 0,\n",
       "  'upper_bound': 1000,\n",
       "  'description': 'Direct normal radiation (W/m2).'},\n",
       " 'Ext_P': {'type': 'scalar',\n",
       "  'lower_bound': 80000.0,\n",
       "  'upper_bound': 130000.0,\n",
       "  'description': 'Outdoor air pressure (Pa).'},\n",
       " 'P3_T_Thermostat_sp_out': {'type': 'scalar',\n",
       "  'lower_bound': 16,\n",
       "  'upper_bound': 26,\n",
       "  'description': 'Floor 3 thermostat setpoint (°C).'},\n",
       " 'P4_T_Thermostat_sp_out': {'type': 'scalar',\n",
       "  'lower_bound': 16,\n",
       "  'upper_bound': 26,\n",
       "  'description': 'Floor 4 thermostat setpoint (°C).'},\n",
       " 'P2_T_Thermostat_sp_out': {'type': 'scalar',\n",
       "  'lower_bound': 16,\n",
       "  'upper_bound': 26,\n",
       "  'description': 'Floor 2 thermostat setpoint (°C).'},\n",
       " 'P1_T_Thermostat_sp_out': {'type': 'scalar',\n",
       "  'lower_bound': 16,\n",
       "  'upper_bound': 26,\n",
       "  'description': 'Floor 1 thermostat setpoint (°C).'},\n",
       " 'Bd_Pw_Bat_sp_out': {'type': 'scalar',\n",
       "  'lower_bound': -1,\n",
       "  'upper_bound': 1,\n",
       "  'description': 'Battery charging/discharging rate setpoint.'},\n",
       " 'Bd_Ch_EV1Bat_sp_out': {'type': 'scalar',\n",
       "  'lower_bound': 0,\n",
       "  'upper_bound': 1,\n",
       "  'description': 'EV 1 battery charging rate setpoint.'},\n",
       " 'Bd_Ch_EV2Bat_sp_out': {'type': 'scalar',\n",
       "  'lower_bound': 0,\n",
       "  'upper_bound': 1,\n",
       "  'description': 'EV 2 battery charging rate setpoint.'},\n",
       " 'Bd_DisCh_EV1Bat': {'type': 'scalar',\n",
       "  'lower_bound': 0,\n",
       "  'upper_bound': 1,\n",
       "  'description': 'EV 1 battery discharging rate.'},\n",
       " 'Bd_DisCh_EV2Bat': {'type': 'scalar',\n",
       "  'lower_bound': 0,\n",
       "  'upper_bound': 1,\n",
       "  'description': 'EV 2 battery discharging rate.'},\n",
       " 'Bd_Frac_Vent_sp_out': {'type': 'scalar',\n",
       "  'lower_bound': 0,\n",
       "  'upper_bound': 1,\n",
       "  'description': 'Ventilation power fraction.'},\n",
       " 'Z01_E_Appl': {'type': 'scalar',\n",
       "  'lower_bound': 0,\n",
       "  'upper_bound': 1000,\n",
       "  'description': 'Zone 1 appliances energy (Wh).'},\n",
       " 'Z02_E_Appl': {'type': 'scalar',\n",
       "  'lower_bound': 0,\n",
       "  'upper_bound': 1000,\n",
       "  'description': 'Zone 2 appliances energy (Wh).'},\n",
       " 'Z03_E_Appl': {'type': 'scalar',\n",
       "  'lower_bound': 0,\n",
       "  'upper_bound': 1000,\n",
       "  'description': 'Zone 3 appliances energy (Wh).'},\n",
       " 'Z04_E_Appl': {'type': 'scalar',\n",
       "  'lower_bound': 0,\n",
       "  'upper_bound': 1000,\n",
       "  'description': 'Zone 4 appliances energy (Wh).'},\n",
       " 'Z05_E_Appl': {'type': 'scalar',\n",
       "  'lower_bound': 0,\n",
       "  'upper_bound': 1000,\n",
       "  'description': 'Zone 5 appliances energy (Wh).'},\n",
       " 'Z06_E_Appl': {'type': 'scalar',\n",
       "  'lower_bound': 0,\n",
       "  'upper_bound': 1000,\n",
       "  'description': 'Zone 6 appliances energy (Wh).'},\n",
       " 'Z07_E_Appl': {'type': 'scalar',\n",
       "  'lower_bound': 0,\n",
       "  'upper_bound': 1000,\n",
       "  'description': 'Zone 7 appliances energy (Wh).'},\n",
       " 'Z08_E_Appl': {'type': 'scalar',\n",
       "  'lower_bound': 0,\n",
       "  'upper_bound': 1000,\n",
       "  'description': 'Zone 8 appliances energy (Wh).'},\n",
       " 'P1_FlFrac_HW': {'type': 'scalar',\n",
       "  'lower_bound': 0,\n",
       "  'upper_bound': 1,\n",
       "  'description': 'Floor 1 hot water flow fraction.'},\n",
       " 'P2_FlFrac_HW': {'type': 'scalar',\n",
       "  'lower_bound': 0,\n",
       "  'upper_bound': 1,\n",
       "  'description': 'Floor 2 hot water flow fraction.'},\n",
       " 'P3_FlFrac_HW': {'type': 'scalar',\n",
       "  'lower_bound': 0,\n",
       "  'upper_bound': 1,\n",
       "  'description': 'Floor 3 hot water flow fraction.'},\n",
       " 'P4_FlFrac_HW': {'type': 'scalar',\n",
       "  'lower_bound': 0,\n",
       "  'upper_bound': 1,\n",
       "  'description': 'Floor 4 hot water flow fraction.'},\n",
       " 'Z01_T': {'type': 'scalar',\n",
       "  'lower_bound': 10,\n",
       "  'upper_bound': 40,\n",
       "  'description': 'Zone 1 temperature (°C).'},\n",
       " 'Z01_RH': {'type': 'scalar',\n",
       "  'lower_bound': 0,\n",
       "  'upper_bound': 100,\n",
       "  'description': 'Zone 1 relative humidity (%RH).'},\n",
       " 'Z02_T': {'type': 'scalar',\n",
       "  'lower_bound': 10,\n",
       "  'upper_bound': 40,\n",
       "  'description': 'Zone 2 temperature (°C).'},\n",
       " 'Z02_RH': {'type': 'scalar',\n",
       "  'lower_bound': 0,\n",
       "  'upper_bound': 100,\n",
       "  'description': 'Zone 2 relative humidity (%RH).'},\n",
       " 'Z03_T': {'type': 'scalar',\n",
       "  'lower_bound': 10,\n",
       "  'upper_bound': 40,\n",
       "  'description': 'Zone 3 temperature (°C).'},\n",
       " 'Z03_RH': {'type': 'scalar',\n",
       "  'lower_bound': 0,\n",
       "  'upper_bound': 100,\n",
       "  'description': 'Zone 3 relative humidity (%RH).'},\n",
       " 'Z04_T': {'type': 'scalar',\n",
       "  'lower_bound': 10,\n",
       "  'upper_bound': 40,\n",
       "  'description': 'Zone 4 temperature (°C).'},\n",
       " 'Z04_RH': {'type': 'scalar',\n",
       "  'lower_bound': 0,\n",
       "  'upper_bound': 100,\n",
       "  'description': 'Zone 4 relative humidity (%RH).'},\n",
       " 'Z05_T': {'type': 'scalar',\n",
       "  'lower_bound': 10,\n",
       "  'upper_bound': 40,\n",
       "  'description': 'Zone 5 temperature (°C).'},\n",
       " 'Z05_RH': {'type': 'scalar',\n",
       "  'lower_bound': 0,\n",
       "  'upper_bound': 100,\n",
       "  'description': 'Zone 5 relative humidity (%RH).'},\n",
       " 'Z06_T': {'type': 'scalar',\n",
       "  'lower_bound': 10,\n",
       "  'upper_bound': 40,\n",
       "  'description': 'Zone 6 temperature (°C).'},\n",
       " 'Z06_RH': {'type': 'scalar',\n",
       "  'lower_bound': 0,\n",
       "  'upper_bound': 100,\n",
       "  'description': 'Zone 6 relative humidity (%RH).'},\n",
       " 'Z07_T': {'type': 'scalar',\n",
       "  'lower_bound': 10,\n",
       "  'upper_bound': 40,\n",
       "  'description': 'Zone 7 temperature (°C).'},\n",
       " 'Z07_RH': {'type': 'scalar',\n",
       "  'lower_bound': 0,\n",
       "  'upper_bound': 100,\n",
       "  'description': 'Zone 7 relative humidity (%RH).'},\n",
       " 'Z08_T': {'type': 'scalar',\n",
       "  'lower_bound': 10,\n",
       "  'upper_bound': 40,\n",
       "  'description': 'Zone 8 temperature (°C).'},\n",
       " 'Z08_RH': {'type': 'scalar',\n",
       "  'lower_bound': 0,\n",
       "  'upper_bound': 100,\n",
       "  'description': 'Zone 8 relative humidity (%RH).'},\n",
       " 'Fa_Stat_EV1': {'type': 'scalar',\n",
       "  'lower_bound': 0,\n",
       "  'upper_bound': 1,\n",
       "  'description': 'EV1 status (availability)'},\n",
       " 'Fa_ECh_EV1Bat': {'type': 'scalar',\n",
       "  'lower_bound': 0,\n",
       "  'upper_bound': 4000.0,\n",
       "  'description': 'EV 1 battery charging energy (Wh).'},\n",
       " 'Fa_EDCh_EV1Bat': {'type': 'scalar',\n",
       "  'lower_bound': 0,\n",
       "  'upper_bound': 4000.0,\n",
       "  'description': 'EV 1 battery discharging energy (Wh).'},\n",
       " 'Fa_Stat_EV2': {'type': 'scalar',\n",
       "  'lower_bound': 0,\n",
       "  'upper_bound': 1,\n",
       "  'description': 'EV2 status (availability)'},\n",
       " 'Fa_ECh_EV2Bat': {'type': 'scalar',\n",
       "  'lower_bound': 0,\n",
       "  'upper_bound': 4000.0,\n",
       "  'description': 'EV 2 battery charging energy (Wh).'},\n",
       " 'Fa_EDCh_EV2Bat': {'type': 'scalar',\n",
       "  'lower_bound': 0,\n",
       "  'upper_bound': 4000.0,\n",
       "  'description': 'EV 2 battery discharging energy (Wh).'},\n",
       " 'Fa_ECh_Bat': {'type': 'scalar',\n",
       "  'lower_bound': 0,\n",
       "  'upper_bound': 4000.0,\n",
       "  'description': 'Battery charging energy (Wh).'},\n",
       " 'Fa_EDCh_Bat': {'type': 'scalar',\n",
       "  'lower_bound': 0,\n",
       "  'upper_bound': 4000.0,\n",
       "  'description': 'Battery discharging energy (Wh).'},\n",
       " 'Bd_FracCh_EV1Bat': {'type': 'scalar',\n",
       "  'lower_bound': 0,\n",
       "  'upper_bound': 1,\n",
       "  'description': 'EV 1 battery state of charge.'},\n",
       " 'Bd_FracCh_EV2Bat': {'type': 'scalar',\n",
       "  'lower_bound': 0,\n",
       "  'upper_bound': 1,\n",
       "  'description': 'EV 2 battery state of charge.'},\n",
       " 'Bd_FracCh_Bat': {'type': 'scalar',\n",
       "  'lower_bound': 0,\n",
       "  'upper_bound': 1,\n",
       "  'description': 'Battery state of charge.'},\n",
       " 'P4_T_Tank': {'type': 'scalar',\n",
       "  'lower_bound': 30,\n",
       "  'upper_bound': 70,\n",
       "  'description': 'Floor 4 tank temperature (°C).'},\n",
       " 'P2_T_Tank': {'type': 'scalar',\n",
       "  'lower_bound': 30,\n",
       "  'upper_bound': 70,\n",
       "  'description': 'Floor 2 tank temperature (°C).'},\n",
       " 'P1_T_Tank': {'type': 'scalar',\n",
       "  'lower_bound': 30,\n",
       "  'upper_bound': 70,\n",
       "  'description': 'Floor 1 tank temperature (°C).'},\n",
       " 'P3_T_Tank': {'type': 'scalar',\n",
       "  'lower_bound': 30,\n",
       "  'upper_bound': 70,\n",
       "  'description': 'Floor 3 tank temperature (°C).'},\n",
       " 'P1_onoff_HP_sp_out': {'type': 'scalar',\n",
       "  'lower_bound': 0,\n",
       "  'upper_bound': 1,\n",
       "  'description': 'Floor 1 heat pump on/off setpoint.'},\n",
       " 'P2_onoff_HP_sp_out': {'type': 'scalar',\n",
       "  'lower_bound': 0,\n",
       "  'upper_bound': 1,\n",
       "  'description': 'Floor 2 heat pump on/off setpoint.'},\n",
       " 'P3_onoff_HP_sp_out': {'type': 'scalar',\n",
       "  'lower_bound': 0,\n",
       "  'upper_bound': 1,\n",
       "  'description': 'Floor 3 heat pump on/off setpoint.'},\n",
       " 'P4_onoff_HP_sp_out': {'type': 'scalar',\n",
       "  'lower_bound': 0,\n",
       "  'upper_bound': 1,\n",
       "  'description': 'Floor 4 heat pump on/off setpoint.'},\n",
       " 'Fa_Pw_All': {'type': 'scalar',\n",
       "  'lower_bound': 0,\n",
       "  'upper_bound': 30000.0,\n",
       "  'description': 'Total power consumption (W).'},\n",
       " 'Fa_Pw_Prod': {'type': 'scalar',\n",
       "  'lower_bound': 0,\n",
       "  'upper_bound': 10000.0,\n",
       "  'description': 'PV power production (W).'},\n",
       " 'Fa_E_self': {'type': 'scalar',\n",
       "  'lower_bound': -20000.0,\n",
       "  'upper_bound': 20000.0,\n",
       "  'description': 'Self consumption energy (Wh).'},\n",
       " 'Fa_E_HVAC': {'type': 'scalar',\n",
       "  'lower_bound': 0,\n",
       "  'upper_bound': 30000.0,\n",
       "  'description': 'HVAC energy consumption (Wh).'},\n",
       " 'Fa_E_All': {'type': 'scalar',\n",
       "  'lower_bound': 0,\n",
       "  'upper_bound': 2000.0,\n",
       "  'description': 'Total energy consumption (Wh).'},\n",
       " 'Fa_E_Light': {'type': 'scalar',\n",
       "  'lower_bound': 0,\n",
       "  'upper_bound': 100,\n",
       "  'description': 'Lighting energy (Wh).'},\n",
       " 'Fa_E_Appl': {'type': 'scalar',\n",
       "  'lower_bound': 0,\n",
       "  'upper_bound': 500.0,\n",
       "  'description': 'Appliances energy (Wh).'}}"
      ]
     },
     "execution_count": 7,
     "metadata": {},
     "output_type": "execute_result"
    }
   ],
   "source": [
    "env.output_specs"
   ]
  },
  {
   "cell_type": "markdown",
   "metadata": {},
   "source": [
    "To run the simulation, a number of steps is specified (here 480 steps per day for 10 days) and the obtained control inputs are passed to the simulation model with the `step()` method. To generate some plots later on, we save all the inputs and outputs in lists."
   ]
  },
  {
   "cell_type": "code",
   "execution_count": null,
   "metadata": {},
   "outputs": [
    {
     "ename": "",
     "evalue": "",
     "output_type": "error",
     "traceback": [
      "\u001b[1;31mThe kernel failed to start as '_psutil_linux' could not be imported from 'most likely due to a circular import'.\n",
      "\u001b[1;31mClick <a href='https://aka.ms/kernelFailuresModuleImportErrFromFile'>here</a> for more info."
     ]
    }
   ],
   "source": [
    "steps = 480*10\n",
    "out_list = []\n",
    "outputs = env.get_output()\n",
    "controls = []\n",
    "hour = 0\n",
    "for i in range(steps):\n",
    "    control = controller.get_control(outputs, 21, hour)\n",
    "    control['Bd_Ch_EV1Bat_sp'] = [0.0]\n",
    "    control['Bd_Ch_EV2Bat_sp'] = [0.0]\n",
    "    controls +=[ {p:control[p][0] for p in control} ]\n",
    "    outputs = env.step(control)\n",
    "    _,hour,_,_ = env.get_date()\n",
    "    out_list.append(outputs)"
   ]
  },
  {
   "cell_type": "markdown",
   "metadata": {},
   "source": [
    "Since the inputs and outputs are given as dictionaries and are collected in lists, we can simply load them as a pandas.DataFrame."
   ]
  },
  {
   "cell_type": "code",
   "execution_count": null,
   "metadata": {},
   "outputs": [
    {
     "ename": "",
     "evalue": "",
     "output_type": "error",
     "traceback": [
      "\u001b[1;31mThe kernel failed to start as '_psutil_linux' could not be imported from 'most likely due to a circular import'.\n",
      "\u001b[1;31mClick <a href='https://aka.ms/kernelFailuresModuleImportErrFromFile'>here</a> for more info."
     ]
    }
   ],
   "source": [
    "import pandas as pd\n",
    "out_df = pd.DataFrame(out_list)"
   ]
  },
  {
   "cell_type": "markdown",
   "metadata": {},
   "source": [
    "To generate plots, we can directly get the data from the DataFrames, by using the key names. Displayed are the zone temperatures and the setpoints determined by the controller for zone 1 as well as the corresponding heat pump on/off switching, the external temperature, and the total power demand."
   ]
  },
  {
   "cell_type": "code",
   "execution_count": null,
   "metadata": {},
   "outputs": [
    {
     "ename": "",
     "evalue": "",
     "output_type": "error",
     "traceback": [
      "\u001b[1;31mThe kernel failed to start as '_psutil_linux' could not be imported from 'most likely due to a circular import'.\n",
      "\u001b[1;31mClick <a href='https://aka.ms/kernelFailuresModuleImportErrFromFile'>here</a> for more info."
     ]
    }
   ],
   "source": [
    "import matplotlib.pyplot as plt\n",
    "%matplotlib notebook\n",
    "\n",
    "f, (ax1,ax2,ax3) = plt.subplots(3,figsize=(10,15))#\n",
    "\n",
    "\n",
    "ax1.plot(out_df['Z01_T'], 'r')\n",
    "ax1.plot(out_df['P1_T_Thermostat_sp_out'], 'b--')\n",
    "ax1.plot(out_df['P1_onoff_HP_sp_out'], 'orange')\n",
    "ax1.set_ylabel('Temp')\n",
    "ax1.set_xlabel('Steps')\n",
    "\n",
    "ax2.plot(out_df['Ext_T'], 'r')\n",
    "ax2.set_ylabel('Temp')\n",
    "ax2.set_xlabel('Steps')\n",
    "\n",
    "ax3.plot(out_df['Fa_Pw_All'], 'g')\n",
    "ax3.set_ylabel('Power')\n",
    "ax3.set_xlabel('Steps')\n",
    "\n",
    "plt.subplots_adjust(hspace=0.4)\n",
    "\n",
    "plt.show()"
   ]
  },
  {
   "cell_type": "markdown",
   "metadata": {},
   "source": [
    "To end the simulation, the `close()` method is called. It deletes files that were produced during the simulation and stores some information about the simulation in the *runs* folder."
   ]
  },
  {
   "cell_type": "code",
   "execution_count": null,
   "metadata": {},
   "outputs": [
    {
     "ename": "",
     "evalue": "",
     "output_type": "error",
     "traceback": [
      "\u001b[1;31mThe kernel failed to start as '_psutil_linux' could not be imported from 'most likely due to a circular import'.\n",
      "\u001b[1;31mClick <a href='https://aka.ms/kernelFailuresModuleImportErrFromFile'>here</a> for more info."
     ]
    }
   ],
   "source": [
    "env.close()"
   ]
  },
  {
   "cell_type": "code",
   "execution_count": null,
   "metadata": {},
   "outputs": [
    {
     "ename": "",
     "evalue": "",
     "output_type": "error",
     "traceback": [
      "\u001b[1;31mThe kernel failed to start as '_psutil_linux' could not be imported from 'most likely due to a circular import'.\n",
      "\u001b[1;31mClick <a href='https://aka.ms/kernelFailuresModuleImportErrFromFile'>here</a> for more info."
     ]
    }
   ],
   "source": []
  }
 ],
 "metadata": {
  "kernelspec": {
   "display_name": "Python 3.9.15 ('env39')",
   "language": "python",
   "name": "python3"
  },
  "language_info": {
   "codemirror_mode": {
    "name": "ipython",
    "version": 3
   },
   "file_extension": ".py",
   "mimetype": "text/x-python",
   "name": "python",
   "nbconvert_exporter": "python",
   "pygments_lexer": "ipython3",
   "version": "3.9.15"
  },
  "vscode": {
   "interpreter": {
    "hash": "1ba3f1003eb51df4385681af09de5f879cf0d20233769b7148e47ffbd897ac4a"
   }
  }
 },
 "nbformat": 4,
 "nbformat_minor": 2
}
