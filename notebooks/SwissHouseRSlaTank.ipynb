{
 "cells": [
  {
   "cell_type": "markdown",
   "metadata": {},
   "source": [
    "# SwissHouseRSlaTank notebook example"
   ]
  },
  {
   "cell_type": "markdown",
   "metadata": {},
   "source": [
    "In this example, the usage of the model \"SwissHouseRad-v0\" is demonstrated."
   ]
  },
  {
   "cell_type": "markdown",
   "metadata": {},
   "source": [
    "First, we import Energym and create the simulation environment by specifying the model, a weather file and the number of simulation days."
   ]
  },
  {
   "cell_type": "code",
   "execution_count": 3,
   "metadata": {
    "scrolled": true
   },
   "outputs": [
    {
     "name": "stdout",
     "output_type": "stream",
     "text": [
      "the initial variables are {'uHP': 0, 'uRSla': 0}\n"
     ]
    }
   ],
   "source": [
    "import sys\n",
    "sys.path.insert(0, \"/home/lesong/energym/\")\n",
    "import energym\n",
    "\n",
    "weather = \"CH_BS_Basel\"\n",
    "env = energym.make(\"SwissHouseRSlaTank-v0\", weather=weather, simulation_days=20)"
   ]
  },
  {
   "cell_type": "markdown",
   "metadata": {},
   "source": [
    "The control inputs can be inspected using the `get_inputs_names()` method."
   ]
  },
  {
   "cell_type": "code",
   "execution_count": 4,
   "metadata": {},
   "outputs": [
    {
     "name": "stdout",
     "output_type": "stream",
     "text": [
      "inputs: ['uHP', 'uRSla']\n",
      "outputs: ['TOut.T', 'heaPum.COP', 'heaPum.COPCar', 'heaPum.P', 'heaPum.QCon_flow', 'heaPum.QEva_flow', 'heaPum.TConAct', 'heaPum.TEvaAct', 'preHea.Q_flow', 'sla.QTot', 'sla.heatPortEmb[1].T', 'sla.m_flow', 'tanSH.heaPorSid.T', 'temRoo.T', 'weaBus.HDifHor', 'weaBus.HDirNor', 'weaBus.HGloHor', 'weaBus.HHorIR']\n"
     ]
    }
   ],
   "source": [
    "inputs = env.get_inputs_names()\n",
    "outputs = env.get_outputs_names()\n",
    "print(\"inputs:\", inputs)\n",
    "print(\"outputs:\", outputs)"
   ]
  },
  {
   "cell_type": "code",
   "execution_count": 5,
   "metadata": {},
   "outputs": [
    {
     "data": {
      "text/plain": [
       "['tanSH.indTanHex.hAPipIns[1].temperatureDependent',\n",
       " 'tanSH.indTanHex.hAPipIns[2].temperatureDependent',\n",
       " 'tanSH.indTanHex.hAPipIns[3].temperatureDependent',\n",
       " 'tanSH.indTanHex.hAPipIns[4].temperatureDependent',\n",
       " 'tanSH.indTanHex.hAPipIns[5].temperatureDependent',\n",
       " 'tanSH.indTanHex.hAPipIns[6].temperatureDependent',\n",
       " 'tanSH.indTanHex.hA_temperatureDependent',\n",
       " 'tanSH.indTanHex.temSenHex[1].T',\n",
       " 'tanSH.indTanHex.temSenHex[1].port.Q_flow',\n",
       " 'tanSH.indTanHex.temSenHex[1].port.T',\n",
       " 'tanSH.indTanHex.temSenHex[2].T',\n",
       " 'tanSH.indTanHex.temSenHex[2].port.Q_flow',\n",
       " 'tanSH.indTanHex.temSenHex[2].port.T',\n",
       " 'tanSH.indTanHex.temSenHex[3].T',\n",
       " 'tanSH.indTanHex.temSenHex[3].port.Q_flow',\n",
       " 'tanSH.indTanHex.temSenHex[3].port.T',\n",
       " 'tanSH.indTanHex.temSenHex[4].T',\n",
       " 'tanSH.indTanHex.temSenHex[4].port.Q_flow',\n",
       " 'tanSH.indTanHex.temSenHex[4].port.T',\n",
       " 'tanSH.indTanHex.temSenHex[5].T',\n",
       " 'tanSH.indTanHex.temSenHex[5].port.Q_flow',\n",
       " 'tanSH.indTanHex.temSenHex[5].port.T',\n",
       " 'tanSH.indTanHex.temSenHex[6].T',\n",
       " 'tanSH.indTanHex.temSenHex[6].port.Q_flow',\n",
       " 'tanSH.indTanHex.temSenHex[6].port.T',\n",
       " 'tanSH.indTanHex.temSenSur[1].T',\n",
       " 'tanSH.indTanHex.temSenSur[1].port.Q_flow',\n",
       " 'tanSH.indTanHex.temSenSur[1].port.T',\n",
       " 'tanSH.indTanHex.temSenSur[2].T',\n",
       " 'tanSH.indTanHex.temSenSur[2].port.Q_flow',\n",
       " 'tanSH.indTanHex.temSenSur[2].port.T',\n",
       " 'tanSH.indTanHex.temSenSur[3].T',\n",
       " 'tanSH.indTanHex.temSenSur[3].port.Q_flow',\n",
       " 'tanSH.indTanHex.temSenSur[3].port.T',\n",
       " 'tanSH.indTanHex.temSenSur[4].T',\n",
       " 'tanSH.indTanHex.temSenSur[4].port.Q_flow',\n",
       " 'tanSH.indTanHex.temSenSur[4].port.T',\n",
       " 'tanSH.indTanHex.temSenSur[5].T',\n",
       " 'tanSH.indTanHex.temSenSur[5].port.Q_flow',\n",
       " 'tanSH.indTanHex.temSenSur[5].port.T',\n",
       " 'tanSH.indTanHex.temSenSur[6].T',\n",
       " 'tanSH.indTanHex.temSenSur[6].port.Q_flow',\n",
       " 'tanSH.indTanHex.temSenSur[6].port.T',\n",
       " 'tanSH.indTanHex.temSenWat[1].T',\n",
       " 'tanSH.indTanHex.temSenWat[1].port.Q_flow',\n",
       " 'tanSH.indTanHex.temSenWat[1].port.T',\n",
       " 'tanSH.indTanHex.temSenWat[2].T',\n",
       " 'tanSH.indTanHex.temSenWat[2].port.Q_flow',\n",
       " 'tanSH.indTanHex.temSenWat[2].port.T',\n",
       " 'tanSH.indTanHex.temSenWat[3].T',\n",
       " 'tanSH.indTanHex.temSenWat[3].port.Q_flow',\n",
       " 'tanSH.indTanHex.temSenWat[3].port.T',\n",
       " 'tanSH.indTanHex.temSenWat[4].T',\n",
       " 'tanSH.indTanHex.temSenWat[4].port.Q_flow',\n",
       " 'tanSH.indTanHex.temSenWat[4].port.T',\n",
       " 'tanSH.indTanHex.temSenWat[5].T',\n",
       " 'tanSH.indTanHex.temSenWat[5].port.Q_flow',\n",
       " 'tanSH.indTanHex.temSenWat[5].port.T',\n",
       " 'tanSH.indTanHex.temSenWat[6].T',\n",
       " 'tanSH.indTanHex.temSenWat[6].port.Q_flow',\n",
       " 'tanSH.indTanHex.temSenWat[6].port.T',\n",
       " 'temHP',\n",
       " 'temHP2Hex.T',\n",
       " 'der(temHP2Hex.T)',\n",
       " 'temHP2Hex.TAmb',\n",
       " 'temHP2Hex.TMed',\n",
       " 'temHP2Hex.T_a_inflow',\n",
       " 'temHP2Hex.T_b_inflow',\n",
       " 'temHP2Hex.T_start',\n",
       " 'temHP2Hex.allowFlowReversal',\n",
       " 'temHP2Hex.dynamic',\n",
       " 'temHP2Hex.initType',\n",
       " 'temHP2Hex.k',\n",
       " 'temHP2Hex.mNor_flow',\n",
       " 'temHP2Hex.m_flow_nominal',\n",
       " 'temHP2Hex.m_flow_small',\n",
       " 'temHP2Hex.port_a.h_outflow',\n",
       " 'temHP2Hex.port_a.m_flow',\n",
       " 'temHP2Hex.port_a.p',\n",
       " 'temHP2Hex.port_b.h_outflow',\n",
       " 'temHP2Hex.port_b.m_flow',\n",
       " 'temHP2Hex.port_b.p',\n",
       " 'temHP2Hex.ratTau',\n",
       " 'temHP2Hex.tau',\n",
       " 'temHP2Hex.tauHeaTra',\n",
       " 'temHP2Hex.tauHeaTraInv',\n",
       " 'temHP2Hex.tauInv',\n",
       " 'temHP2Hex.transferHeat',\n",
       " 'temHex2HP.T',\n",
       " 'der(temHex2HP.T)',\n",
       " 'temHex2HP.TAmb',\n",
       " 'temHex2HP.TMed',\n",
       " 'temHex2HP.T_a_inflow',\n",
       " 'temHex2HP.T_b_inflow',\n",
       " 'temHex2HP.T_start',\n",
       " 'temHex2HP.allowFlowReversal',\n",
       " 'temHex2HP.dynamic',\n",
       " 'temHex2HP.initType',\n",
       " 'temHex2HP.k',\n",
       " 'temHex2HP.mNor_flow',\n",
       " 'temHex2HP.m_flow_nominal',\n",
       " 'temHex2HP.m_flow_small',\n",
       " 'temHex2HP.port_a.h_outflow',\n",
       " 'temHex2HP.port_a.m_flow',\n",
       " 'temHex2HP.port_a.p',\n",
       " 'temHex2HP.port_b.h_outflow',\n",
       " 'temHex2HP.port_b.m_flow',\n",
       " 'temHex2HP.port_b.p',\n",
       " 'temHex2HP.ratTau',\n",
       " 'temHex2HP.tau',\n",
       " 'temHex2HP.tauHeaTra',\n",
       " 'temHex2HP.tauHeaTraInv',\n",
       " 'temHex2HP.tauInv',\n",
       " 'temHex2HP.transferHeat',\n",
       " 'temRoo.T',\n",
       " 'temRoo.port.Q_flow',\n",
       " 'temRoo.port.T',\n",
       " 'temRoom',\n",
       " 'temSla2Tan.T',\n",
       " 'der(temSla2Tan.T)',\n",
       " 'temSla2Tan.TAmb',\n",
       " 'temSla2Tan.TMed',\n",
       " 'temSla2Tan.T_a_inflow',\n",
       " 'temSla2Tan.T_b_inflow',\n",
       " 'temSla2Tan.T_start',\n",
       " 'temSla2Tan.allowFlowReversal',\n",
       " 'temSla2Tan.dynamic',\n",
       " 'temSla2Tan.initType',\n",
       " 'temSla2Tan.k',\n",
       " 'temSla2Tan.mNor_flow',\n",
       " 'temSla2Tan.m_flow_nominal',\n",
       " 'temSla2Tan.m_flow_small',\n",
       " 'temSla2Tan.port_a.h_outflow',\n",
       " 'temSla2Tan.port_a.m_flow',\n",
       " 'temSla2Tan.port_a.p',\n",
       " 'temSla2Tan.port_b.h_outflow',\n",
       " 'temSla2Tan.port_b.m_flow',\n",
       " 'temSla2Tan.port_b.p',\n",
       " 'temSla2Tan.ratTau',\n",
       " 'temSla2Tan.tau',\n",
       " 'temSla2Tan.tauHeaTra',\n",
       " 'temSla2Tan.tauHeaTraInv',\n",
       " 'temSla2Tan.tauInv',\n",
       " 'temSla2Tan.transferHeat',\n",
       " 'temTan2Sla.T',\n",
       " 'der(temTan2Sla.T)',\n",
       " 'temTan2Sla.TAmb',\n",
       " 'temTan2Sla.TMed',\n",
       " 'temTan2Sla.T_a_inflow',\n",
       " 'temTan2Sla.T_b_inflow',\n",
       " 'temTan2Sla.T_start',\n",
       " 'temTan2Sla.allowFlowReversal',\n",
       " 'temTan2Sla.dynamic',\n",
       " 'temTan2Sla.initType',\n",
       " 'temTan2Sla.k',\n",
       " 'temTan2Sla.mNor_flow',\n",
       " 'temTan2Sla.m_flow_nominal',\n",
       " 'temTan2Sla.m_flow_small',\n",
       " 'temTan2Sla.port_a.h_outflow',\n",
       " 'temTan2Sla.port_a.m_flow',\n",
       " 'temTan2Sla.port_a.p',\n",
       " 'temTan2Sla.port_b.h_outflow',\n",
       " 'temTan2Sla.port_b.m_flow',\n",
       " 'temTan2Sla.port_b.p',\n",
       " 'temTan2Sla.ratTau',\n",
       " 'temTan2Sla.tau',\n",
       " 'temTan2Sla.tauHeaTra',\n",
       " 'temTan2Sla.tauHeaTraInv',\n",
       " 'temTan2Sla.tauInv',\n",
       " 'temTan2Sla.transferHeat',\n",
       " 'temp_100',\n",
       " 'temp_101',\n",
       " 'temp_87',\n",
       " 'temp_88',\n",
       " 'temp_89',\n",
       " 'temp_90',\n",
       " 'temp_91',\n",
       " 'temp_92',\n",
       " 'temp_93',\n",
       " 'temp_94',\n",
       " 'temp_95',\n",
       " 'temp_96',\n",
       " 'temp_97',\n",
       " 'temp_98',\n",
       " 'temp_99']"
      ]
     },
     "execution_count": 5,
     "metadata": {},
     "output_type": "execute_result"
    }
   ],
   "source": [
    "[ p for p in env.vrs if \"tem\" in p]"
   ]
  },
  {
   "cell_type": "markdown",
   "metadata": {},
   "source": [
    "To run the simulation, a number of steps is specified (here 288 steps per day for 10 days), a control input is specified and passed to the simulation model with the `step()` method. To generate some plots later on, we save all the outputs in lists."
   ]
  },
  {
   "cell_type": "code",
   "execution_count": 7,
   "metadata": {},
   "outputs": [
    {
     "name": "stdout",
     "output_type": "stream",
     "text": [
      "[OK] <JMIRuntime><value name=\"build_date\">\"Feb 24 2021\"</value> <value name=\"build_time\">\"21:25:41\"</value></JMIRuntime>\n",
      "[WARNING] <ModelicaMessage category=\"warning\"><value name=\"msg\">\"... loading \"\"tab1\"\" from \"\"/home/lesong/Energym_runs/1669962761_1294545/resources/0/weather.mos\"\"&##10;\"</value></ModelicaMessage>\n",
      "[WARNING] <ModelicaMessage category=\"warning\"><value name=\"msg\">\"... loading \"\"tab1\"\" from \"\"/home/lesong/Energym_runs/1669962761_1294545/resources/0/weather.mos\"\"&##10;\"</value></ModelicaMessage>\n",
      "[ERROR] <DoStep category=\"error\">Cannot take a step past the <value name=\"stop_time\">        1.7280000000000000E+06</value>. Asked <value name=\"final_time\">        1.7283000000000000E+06</value>.</DoStep>\n"
     ]
    },
    {
     "ename": "FMICallException",
     "evalue": "fmi2DoStep failed with status 3 (error).",
     "output_type": "error",
     "traceback": [
      "\u001b[0;31m---------------------------------------------------------------------------\u001b[0m",
      "\u001b[0;31mFMICallException\u001b[0m                          Traceback (most recent call last)",
      "Cell \u001b[0;32mIn [7], line 14\u001b[0m\n\u001b[1;32m     12\u001b[0m control[\u001b[39m'\u001b[39m\u001b[39muRSla\u001b[39m\u001b[39m'\u001b[39m] \u001b[39m=\u001b[39m [\u001b[39m0.5\u001b[39m\u001b[39m*\u001b[39m(math\u001b[39m.\u001b[39msin(\u001b[39m0.01\u001b[39m\u001b[39m*\u001b[39mi)\u001b[39m+\u001b[39m\u001b[39m1.0\u001b[39m)]\n\u001b[1;32m     13\u001b[0m controls \u001b[39m+\u001b[39m\u001b[39m=\u001b[39m[ {p:control[p][\u001b[39m0\u001b[39m] \u001b[39mfor\u001b[39;00m p \u001b[39min\u001b[39;00m control} ]\n\u001b[0;32m---> 14\u001b[0m outputs \u001b[39m=\u001b[39m env\u001b[39m.\u001b[39;49mstep(control)\n\u001b[1;32m     15\u001b[0m _,hour,_,_ \u001b[39m=\u001b[39m env\u001b[39m.\u001b[39mget_date()\n\u001b[1;32m     16\u001b[0m out_list\u001b[39m.\u001b[39mappend(outputs)\n",
      "File \u001b[0;32m~/energym/energym/envs/env_fmu.py:460\u001b[0m, in \u001b[0;36mEnvFMU.step\u001b[0;34m(self, inputs)\u001b[0m\n\u001b[1;32m    454\u001b[0m \u001b[39mself\u001b[39m\u001b[39m.\u001b[39mfmu\u001b[39m.\u001b[39msetReal(\n\u001b[1;32m    455\u001b[0m     key_list,\n\u001b[1;32m    456\u001b[0m     input_list,\n\u001b[1;32m    457\u001b[0m )\n\u001b[1;32m    459\u001b[0m \u001b[39m# perform one step\u001b[39;00m\n\u001b[0;32m--> 460\u001b[0m \u001b[39mself\u001b[39;49m\u001b[39m.\u001b[39;49mfmu\u001b[39m.\u001b[39;49mdoStep(\n\u001b[1;32m    461\u001b[0m     currentCommunicationPoint\u001b[39m=\u001b[39;49m\u001b[39mself\u001b[39;49m\u001b[39m.\u001b[39;49mtime,\n\u001b[1;32m    462\u001b[0m     communicationStepSize\u001b[39m=\u001b[39;49m\u001b[39mself\u001b[39;49m\u001b[39m.\u001b[39;49mstep_size,\n\u001b[1;32m    463\u001b[0m )\n\u001b[1;32m    465\u001b[0m \u001b[39m# get the values\u001b[39;00m\n\u001b[1;32m    466\u001b[0m out_values \u001b[39m=\u001b[39m \u001b[39mself\u001b[39m\u001b[39m.\u001b[39mfmu\u001b[39m.\u001b[39mgetReal([\u001b[39mself\u001b[39m\u001b[39m.\u001b[39mvrs[key] \u001b[39mfor\u001b[39;00m key \u001b[39min\u001b[39;00m \u001b[39mself\u001b[39m\u001b[39m.\u001b[39moutput_keys])\n",
      "File \u001b[0;32m/anaconda/envs/env39/lib/python3.9/site-packages/fmpy/fmi2.py:580\u001b[0m, in \u001b[0;36mFMU2Slave.doStep\u001b[0;34m(self, currentCommunicationPoint, communicationStepSize, noSetFMUStatePriorToCurrentPoint)\u001b[0m\n\u001b[1;32m    579\u001b[0m \u001b[39mdef\u001b[39;00m \u001b[39mdoStep\u001b[39m(\u001b[39mself\u001b[39m, currentCommunicationPoint, communicationStepSize, noSetFMUStatePriorToCurrentPoint\u001b[39m=\u001b[39mfmi2True):\n\u001b[0;32m--> 580\u001b[0m     \u001b[39mself\u001b[39;49m\u001b[39m.\u001b[39;49mfmi2DoStep(\u001b[39mself\u001b[39;49m\u001b[39m.\u001b[39;49mcomponent, currentCommunicationPoint, communicationStepSize, noSetFMUStatePriorToCurrentPoint)\n",
      "File \u001b[0;32m/anaconda/envs/env39/lib/python3.9/site-packages/fmpy/fmi2.py:215\u001b[0m, in \u001b[0;36m_FMU2._fmi2Function.<locals>.w\u001b[0;34m(*args)\u001b[0m\n\u001b[1;32m    212\u001b[0m \u001b[39mif\u001b[39;00m restype \u001b[39m==\u001b[39m fmi2Status:  \u001b[39m# status code\u001b[39;00m\n\u001b[1;32m    213\u001b[0m     \u001b[39m# check the status code\u001b[39;00m\n\u001b[1;32m    214\u001b[0m     \u001b[39mif\u001b[39;00m res \u001b[39m>\u001b[39m fmi2Warning:\n\u001b[0;32m--> 215\u001b[0m         \u001b[39mraise\u001b[39;00m FMICallException(function\u001b[39m=\u001b[39mfname, status\u001b[39m=\u001b[39mres)\n\u001b[1;32m    217\u001b[0m \u001b[39mreturn\u001b[39;00m res\n",
      "\u001b[0;31mFMICallException\u001b[0m: fmi2DoStep failed with status 3 (error)."
     ]
    }
   ],
   "source": [
    "from scipy import signal\n",
    "import math\n",
    "\n",
    "steps = 288*5\n",
    "out_list = []\n",
    "outputs = env.get_output()\n",
    "controls = []\n",
    "hour = 0\n",
    "for i in range(steps):\n",
    "    control = {}\n",
    "    control['uHP'] = [0.5*(signal.square(0.1*i)+1.0)]\n",
    "    control['uRSla'] = [0.5*(math.sin(0.01*i)+1.0)]\n",
    "    controls +=[ {p:control[p][0] for p in control} ]\n",
    "    outputs = env.step(control)\n",
    "    _,hour,_,_ = env.get_date()\n",
    "    out_list.append(outputs)"
   ]
  },
  {
   "cell_type": "markdown",
   "metadata": {},
   "source": [
    "Since the outputs are given as dictionaries and are collected in lists, we can simply load them as a pandas.DataFrame."
   ]
  },
  {
   "cell_type": "code",
   "execution_count": null,
   "metadata": {},
   "outputs": [
    {
     "ename": "",
     "evalue": "",
     "output_type": "error",
     "traceback": [
      "\u001b[1;31mThe kernel failed to start as '_psutil_linux' could not be imported from 'most likely due to a circular import'.\n",
      "\u001b[1;31mClick <a href='https://aka.ms/kernelFailuresModuleImportErrFromFile'>here</a> for more info."
     ]
    }
   ],
   "source": [
    "import pandas as pd\n",
    "out_df = pd.DataFrame(out_list)"
   ]
  },
  {
   "cell_type": "code",
   "execution_count": null,
   "metadata": {},
   "outputs": [
    {
     "ename": "",
     "evalue": "",
     "output_type": "error",
     "traceback": [
      "\u001b[1;31mThe kernel failed to start as '_psutil_linux' could not be imported from 'most likely due to a circular import'.\n",
      "\u001b[1;31mClick <a href='https://aka.ms/kernelFailuresModuleImportErrFromFile'>here</a> for more info."
     ]
    }
   ],
   "source": [
    "out_df"
   ]
  },
  {
   "cell_type": "markdown",
   "metadata": {},
   "source": [
    "To generate plots, we can directly get the data from the DataFrames, by using the key names. Displayed are the room temperature, the supply temperature and the return temperature, as well as the external temperature, and the heat pump energy."
   ]
  },
  {
   "cell_type": "code",
   "execution_count": null,
   "metadata": {},
   "outputs": [
    {
     "ename": "",
     "evalue": "",
     "output_type": "error",
     "traceback": [
      "\u001b[1;31mThe kernel failed to start as '_psutil_linux' could not be imported from 'most likely due to a circular import'.\n",
      "\u001b[1;31mClick <a href='https://aka.ms/kernelFailuresModuleImportErrFromFile'>here</a> for more info."
     ]
    }
   ],
   "source": [
    "import matplotlib.pyplot as plt\n",
    "%matplotlib notebook\n",
    "\n",
    "f, (ax1,ax2,ax3) = plt.subplots(3,figsize=(10,15))#\n",
    "\n",
    "\n",
    "ax1.plot(out_df['temRoo.T']-273.15, 'r')\n",
    "ax1.plot(out_df['sla.heatPortEmb[1].T']-273.15, 'b--')\n",
    "ax1.plot(out_df['heaPum.TEvaAct']-273.15, 'orange')\n",
    "ax1.set_ylabel('Temp')\n",
    "ax1.set_xlabel('Steps')\n",
    "\n",
    "ax2.plot(out_df['TOut.T']-273.15, 'r')\n",
    "ax2.set_ylabel('Temp')\n",
    "ax2.set_xlabel('Steps')\n",
    "\n",
    "ax3.plot(out_df['heaPum.QCon_flow'], 'g')\n",
    "ax3.set_ylabel('Energy')\n",
    "ax3.set_xlabel('Steps')\n",
    "\n",
    "plt.subplots_adjust(hspace=0.4)\n",
    "\n",
    "plt.show()"
   ]
  },
  {
   "cell_type": "markdown",
   "metadata": {},
   "source": [
    "To end the simulation, the `close()` method is called. It deletes files that were produced during the simulation and stores some information about the simulation in the *energym_runs* folder."
   ]
  },
  {
   "cell_type": "code",
   "execution_count": null,
   "metadata": {},
   "outputs": [
    {
     "ename": "",
     "evalue": "",
     "output_type": "error",
     "traceback": [
      "\u001b[1;31mThe kernel failed to start as '_psutil_linux' could not be imported from 'most likely due to a circular import'.\n",
      "\u001b[1;31mClick <a href='https://aka.ms/kernelFailuresModuleImportErrFromFile'>here</a> for more info."
     ]
    }
   ],
   "source": [
    "env.close()"
   ]
  },
  {
   "cell_type": "code",
   "execution_count": null,
   "metadata": {},
   "outputs": [
    {
     "ename": "",
     "evalue": "",
     "output_type": "error",
     "traceback": [
      "\u001b[1;31mThe kernel failed to start as '_psutil_linux' could not be imported from 'most likely due to a circular import'.\n",
      "\u001b[1;31mClick <a href='https://aka.ms/kernelFailuresModuleImportErrFromFile'>here</a> for more info."
     ]
    }
   ],
   "source": []
  }
 ],
 "metadata": {
  "kernelspec": {
   "display_name": "Python 3.9.15 ('env39')",
   "language": "python",
   "name": "python3"
  },
  "language_info": {
   "codemirror_mode": {
    "name": "ipython",
    "version": 3
   },
   "file_extension": ".py",
   "mimetype": "text/x-python",
   "name": "python",
   "nbconvert_exporter": "python",
   "pygments_lexer": "ipython3",
   "version": "3.9.15"
  },
  "vscode": {
   "interpreter": {
    "hash": "1ba3f1003eb51df4385681af09de5f879cf0d20233769b7148e47ffbd897ac4a"
   }
  }
 },
 "nbformat": 4,
 "nbformat_minor": 2
}
